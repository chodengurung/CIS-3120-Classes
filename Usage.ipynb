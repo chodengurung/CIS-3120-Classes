{
 "cells": [
  {
   "cell_type": "code",
   "execution_count": 3,
   "id": "6b88b4bc-a5c4-436d-9eed-8e95600f6d53",
   "metadata": {
    "editable": true,
    "slideshow": {
     "slide_type": ""
    },
    "tags": []
   },
   "outputs": [],
   "source": [
    "from Animal import Animal"
   ]
  },
  {
   "cell_type": "code",
   "execution_count": 4,
   "id": "738a52e3-faf1-4f92-8835-fed5b5e36dfe",
   "metadata": {
    "editable": true,
    "slideshow": {
     "slide_type": ""
    },
    "tags": []
   },
   "outputs": [
    {
     "name": "stdout",
     "output_type": "stream",
     "text": [
      "Hello, I am Buddy and I am 3 years old.\n",
      "Buddy says hi!\n",
      "Buddy is eating bones.\n",
      "Buddy is sleeping for 8 hours.\n",
      "Buddy moved 10 meters.\n",
      "Happy Birthday, Buddy! You are now 4 years old.\n",
      "Buddy is a 4-year-old animal.\n"
     ]
    }
   ],
   "source": [
    "dog = Animal(\"Buddy\",3)\n",
    "\n",
    "# Demonstrate the usage of each function\n",
    "dog.talk()  # Buddy says hi!\n",
    "dog.eat(\"bones\")  # Buddy is eating bones.\n",
    "dog.sleep(8)  # Buddy is sleeping for 8 hours.\n",
    "dog.move(10)  # Buddy moved 10 meters.\n",
    "dog.celebrate_birthday()  # Happy Birthday, Buddy! You are now 4 years old.\n",
    "dog.describe()  # Buddy is a 4-year-old animal."
   ]
  }
 ],
 "metadata": {
  "kernelspec": {
   "display_name": "Python 3",
   "language": "python",
   "name": "python3"
  },
  "language_info": {
   "codemirror_mode": {
    "name": "ipython",
    "version": 3
   },
   "file_extension": ".py",
   "mimetype": "text/x-python",
   "name": "python",
   "nbconvert_exporter": "python",
   "pygments_lexer": "ipython3",
   "version": "3.12.1"
  }
 },
 "nbformat": 4,
 "nbformat_minor": 5
}
